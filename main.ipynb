{
 "cells": [
  {
   "cell_type": "code",
   "execution_count": 1,
   "id": "b08475a4",
   "metadata": {},
   "outputs": [],
   "source": [
    "import psycopg2 as ps\n",
    "from sqlalchemy import create_engine\n",
    "from sqlalchemy.engine.url import URL\n",
    "import pandas as pd\n",
    "import difflib\n",
    "import matchgeo\n",
    "import requests\n",
    "from googletrans import Translator\n",
    "from gensim.models import Word2Vec\n",
    "from sklearn.metrics.pairwise import cosine_similarity\n",
    "import nltk\n",
    "from fuzzywuzzy import fuzz\n",
    "\n"
   ]
  },
  {
   "cell_type": "code",
   "execution_count": 2,
   "id": "4a9ef09f",
   "metadata": {},
   "outputs": [],
   "source": [
    "#! pip install transliterate\n",
    "#! pip install fuzzywuzzy\n",
    "#! pip install difflib"
   ]
  },
  {
   "cell_type": "markdown",
   "id": "b4fb15ae",
   "metadata": {},
   "source": [
    "# 1. INPUT \n",
    "На вход: \n",
    "- word: искомый город\n",
    "- isgoogletranslator: использвание переводчика. Если переводчик не используется, используется транслитерация.\n",
    "- username: юзернэйм на геонэймс для GeonamesAPI\n"
   ]
  },
  {
   "cell_type": "code",
   "execution_count": 41,
   "id": "8d7bd975",
   "metadata": {},
   "outputs": [],
   "source": [
    "word = 'Владивасток'\n",
    "word_2 = 'Росов-на-Доу'\n",
    "word_4 = 'Дубаии'\n",
    "word_3 = \"Вилики Ноагород\"\n",
    "username = 'sofia_bulg'\n",
    "isgoogletranslator = False\n",
    "isgeonamesapi = True\n",
    "\n"
   ]
  },
  {
   "cell_type": "markdown",
   "id": "efee5ced",
   "metadata": {},
   "source": [
    "Функция поиска мэтчей при помощи либо библиотеки difflib либо fuzzywuzzy, лимбо через гугл-переводчик, либо через транслитерацию"
   ]
  },
  {
   "cell_type": "code",
   "execution_count": 4,
   "id": "2e020134",
   "metadata": {},
   "outputs": [],
   "source": [
    "def match_search(word, target, n, bibl, isgoogletranslator):\n",
    "    results = {}\n",
    "    if isgoogletranslator:\n",
    "        word = matchgeo.translate_non_latin_word(word)\n",
    "    else:\n",
    "        word = matchgeo.transl(word)  \n",
    "    if bibl == 'difflib':          \n",
    "        namesdiff = matchgeo.matches(word, target , n)       \n",
    "        for city in namesdiff:\n",
    "            levenshtein_distance = nltk.edit_distance(word, city) \n",
    "            results[city] = {'levenshtein_distance': levenshtein_distance}\n",
    "    elif bibl == 'fw':\n",
    "        namesdiff = matchgeo.matchesfuzz(word, target , n)       \n",
    "        for city in namesdiff:\n",
    "            distance =  fuzz.ratio(word, city)\n",
    "            results[city] = {'fuzz_ratio': distance}\n",
    "    else:\n",
    "        print('Choose \"difflib\" or \"fw\"')\n",
    "    return  namesdiff, results\n",
    "    "
   ]
  },
  {
   "cell_type": "markdown",
   "id": "ef81f08d",
   "metadata": {},
   "source": [
    "функция поиска информации по названиям городов во всех базах geonames по городу и стране. k - количество результатов поиска, я ограничила одним, иначе ищет слишком много всего."
   ]
  },
  {
   "cell_type": "code",
   "execution_count": 5,
   "id": "ab7fb843",
   "metadata": {},
   "outputs": [],
   "source": [
    "def getgeonamesinfo(cities, k=1):\n",
    "    for index, row in cities.iterrows():\n",
    "        city_name = row['name_1']\n",
    "        ad = row['AD']\n",
    "        matchgeo.geonamesapiinfo(city_name, ad, username, k) \n",
    "    print()"
   ]
  },
  {
   "cell_type": "markdown",
   "id": "6a7a56df",
   "metadata": {},
   "source": [
    "# 2. Загрузка и обработка данных"
   ]
  },
  {
   "cell_type": "code",
   "execution_count": 6,
   "id": "a9829c35",
   "metadata": {},
   "outputs": [],
   "source": [
    "DATABASE = {\n",
    "    'drivername': 'postgresql', \n",
    "    'host': 'localhost',\n",
    "    'port': 5433,\n",
    "    'database': 'Geonames',\n",
    "    'username':'postgres',\n",
    "    'password':'1207',\n",
    "    'query': {}\n",
    "}  \n",
    "\n",
    "engine = create_engine(URL.create(**DATABASE))"
   ]
  },
  {
   "cell_type": "code",
   "execution_count": 7,
   "id": "b3ab0c9c",
   "metadata": {},
   "outputs": [],
   "source": [
    "query = 'SELECT * FROM \"Geonames\".cities5000'\n",
    "\n",
    "data = pd.read_sql_query(query, con=engine)\n"
   ]
  },
  {
   "cell_type": "code",
   "execution_count": 8,
   "id": "8925cb0a",
   "metadata": {
    "scrolled": true
   },
   "outputs": [
    {
     "data": {
      "text/html": [
       "<div>\n",
       "<style scoped>\n",
       "    .dataframe tbody tr th:only-of-type {\n",
       "        vertical-align: middle;\n",
       "    }\n",
       "\n",
       "    .dataframe tbody tr th {\n",
       "        vertical-align: top;\n",
       "    }\n",
       "\n",
       "    .dataframe thead th {\n",
       "        text-align: right;\n",
       "    }\n",
       "</style>\n",
       "<table border=\"1\" class=\"dataframe\">\n",
       "  <thead>\n",
       "    <tr style=\"text-align: right;\">\n",
       "      <th></th>\n",
       "      <th>id</th>\n",
       "      <th>name_1</th>\n",
       "      <th>name_2</th>\n",
       "      <th>name_3</th>\n",
       "      <th>coord_1</th>\n",
       "      <th>coord_2</th>\n",
       "      <th>AD</th>\n",
       "      <th>location</th>\n",
       "    </tr>\n",
       "  </thead>\n",
       "  <tbody>\n",
       "    <tr>\n",
       "      <th>0</th>\n",
       "      <td>﻿3040051</td>\n",
       "      <td>les Escaldes</td>\n",
       "      <td>les Escaldes</td>\n",
       "      <td>Ehskal'des-Ehndzhordani,Escaldes,Escaldes-Engo...</td>\n",
       "      <td>42.50729</td>\n",
       "      <td>1.53414</td>\n",
       "      <td>AD</td>\n",
       "      <td>Europe/Andorra</td>\n",
       "    </tr>\n",
       "    <tr>\n",
       "      <th>1</th>\n",
       "      <td>3041563</td>\n",
       "      <td>Andorra la Vella</td>\n",
       "      <td>Andorra la Vella</td>\n",
       "      <td>ALV,Ando-la-Vyey,Andora,Andora la Vela,Andora ...</td>\n",
       "      <td>42.50779</td>\n",
       "      <td>1.52109</td>\n",
       "      <td>AD</td>\n",
       "      <td>Europe/Andorra</td>\n",
       "    </tr>\n",
       "    <tr>\n",
       "      <th>2</th>\n",
       "      <td>290594</td>\n",
       "      <td>Umm Al Quwain City</td>\n",
       "      <td>Umm Al Quwain City</td>\n",
       "      <td>Oumm al Qaiwain,Oumm al Qaïwaïn,Um al Kawain,U...</td>\n",
       "      <td>25.56473</td>\n",
       "      <td>55.55517</td>\n",
       "      <td>AE</td>\n",
       "      <td>Asia/Dubai</td>\n",
       "    </tr>\n",
       "    <tr>\n",
       "      <th>3</th>\n",
       "      <td>291074</td>\n",
       "      <td>Ras Al Khaimah City</td>\n",
       "      <td>Ras Al Khaimah City</td>\n",
       "      <td>Julfa,Khaimah,RAK City,RKT,Ra's al Khaymah,Ra'...</td>\n",
       "      <td>25.78953</td>\n",
       "      <td>55.9432</td>\n",
       "      <td>AE</td>\n",
       "      <td>Asia/Dubai</td>\n",
       "    </tr>\n",
       "    <tr>\n",
       "      <th>4</th>\n",
       "      <td>291580</td>\n",
       "      <td>Zayed City</td>\n",
       "      <td>Zayed City</td>\n",
       "      <td>Bid' Zayed,Bid’ Zayed,Madinat Za'id,Madinat Za...</td>\n",
       "      <td>23.65416</td>\n",
       "      <td>53.70522</td>\n",
       "      <td>AE</td>\n",
       "      <td>Asia/Dubai</td>\n",
       "    </tr>\n",
       "    <tr>\n",
       "      <th>5</th>\n",
       "      <td>291696</td>\n",
       "      <td>Khawr Fakkān</td>\n",
       "      <td>Khawr Fakkan</td>\n",
       "      <td>Fakkan,Fakkān,Khawr Fakkan,Khawr Fakkān,Khawr ...</td>\n",
       "      <td>25.33132</td>\n",
       "      <td>56.34199</td>\n",
       "      <td>AE</td>\n",
       "      <td>Asia/Dubai</td>\n",
       "    </tr>\n",
       "    <tr>\n",
       "      <th>6</th>\n",
       "      <td>292223</td>\n",
       "      <td>Dubai</td>\n",
       "      <td>Dubai</td>\n",
       "      <td>DXB,Dabei,Dibai,Dibay,Doubayi,Dubae,Dubai,Duba...</td>\n",
       "      <td>25.07725</td>\n",
       "      <td>55.30927</td>\n",
       "      <td>AE</td>\n",
       "      <td>Asia/Dubai</td>\n",
       "    </tr>\n",
       "    <tr>\n",
       "      <th>7</th>\n",
       "      <td>292231</td>\n",
       "      <td>Dibba Al-Fujairah</td>\n",
       "      <td>Dibba Al-Fujairah</td>\n",
       "      <td>Al-Fujairah,BYB,Dibba Al-Fujairah,dba alfjyrt,...</td>\n",
       "      <td>25.59246</td>\n",
       "      <td>56.26176</td>\n",
       "      <td>AE</td>\n",
       "      <td>Asia/Dubai</td>\n",
       "    </tr>\n",
       "    <tr>\n",
       "      <th>8</th>\n",
       "      <td>292239</td>\n",
       "      <td>Dibba Al-Hisn</td>\n",
       "      <td>Dibba Al-Hisn</td>\n",
       "      <td>BYB,Daba,Daba al-Hisn,Dabā,Dabā al-Ḥiṣn,Diba,D...</td>\n",
       "      <td>25.61955</td>\n",
       "      <td>56.27291</td>\n",
       "      <td>AE</td>\n",
       "      <td>Asia/Dubai</td>\n",
       "    </tr>\n",
       "    <tr>\n",
       "      <th>9</th>\n",
       "      <td>292672</td>\n",
       "      <td>Sharjah</td>\n",
       "      <td>Sharjah</td>\n",
       "      <td>Al Sharjah,Ash 'Mariqah,Ash Shariqa,Ash Shariq...</td>\n",
       "      <td>25.33737</td>\n",
       "      <td>55.41206</td>\n",
       "      <td>AE</td>\n",
       "      <td>Asia/Dubai</td>\n",
       "    </tr>\n",
       "  </tbody>\n",
       "</table>\n",
       "</div>"
      ],
      "text/plain": [
       "         id               name_1               name_2  \\\n",
       "0  ﻿3040051         les Escaldes         les Escaldes   \n",
       "1   3041563     Andorra la Vella     Andorra la Vella   \n",
       "2    290594   Umm Al Quwain City   Umm Al Quwain City   \n",
       "3    291074  Ras Al Khaimah City  Ras Al Khaimah City   \n",
       "4    291580           Zayed City           Zayed City   \n",
       "5    291696         Khawr Fakkān         Khawr Fakkan   \n",
       "6    292223                Dubai                Dubai   \n",
       "7    292231    Dibba Al-Fujairah    Dibba Al-Fujairah   \n",
       "8    292239        Dibba Al-Hisn        Dibba Al-Hisn   \n",
       "9    292672              Sharjah              Sharjah   \n",
       "\n",
       "                                              name_3   coord_1   coord_2  AD  \\\n",
       "0  Ehskal'des-Ehndzhordani,Escaldes,Escaldes-Engo...  42.50729   1.53414  AD   \n",
       "1  ALV,Ando-la-Vyey,Andora,Andora la Vela,Andora ...  42.50779   1.52109  AD   \n",
       "2  Oumm al Qaiwain,Oumm al Qaïwaïn,Um al Kawain,U...  25.56473  55.55517  AE   \n",
       "3  Julfa,Khaimah,RAK City,RKT,Ra's al Khaymah,Ra'...  25.78953   55.9432  AE   \n",
       "4  Bid' Zayed,Bid’ Zayed,Madinat Za'id,Madinat Za...  23.65416  53.70522  AE   \n",
       "5  Fakkan,Fakkān,Khawr Fakkan,Khawr Fakkān,Khawr ...  25.33132  56.34199  AE   \n",
       "6  DXB,Dabei,Dibai,Dibay,Doubayi,Dubae,Dubai,Duba...  25.07725  55.30927  AE   \n",
       "7  Al-Fujairah,BYB,Dibba Al-Fujairah,dba alfjyrt,...  25.59246  56.26176  AE   \n",
       "8  BYB,Daba,Daba al-Hisn,Dabā,Dabā al-Ḥiṣn,Diba,D...  25.61955  56.27291  AE   \n",
       "9  Al Sharjah,Ash 'Mariqah,Ash Shariqa,Ash Shariq...  25.33737  55.41206  AE   \n",
       "\n",
       "         location  \n",
       "0  Europe/Andorra  \n",
       "1  Europe/Andorra  \n",
       "2      Asia/Dubai  \n",
       "3      Asia/Dubai  \n",
       "4      Asia/Dubai  \n",
       "5      Asia/Dubai  \n",
       "6      Asia/Dubai  \n",
       "7      Asia/Dubai  \n",
       "8      Asia/Dubai  \n",
       "9      Asia/Dubai  "
      ]
     },
     "execution_count": 8,
     "metadata": {},
     "output_type": "execute_result"
    }
   ],
   "source": [
    "data.dropna()\n",
    "data.head(10)"
   ]
  },
  {
   "cell_type": "code",
   "execution_count": 9,
   "id": "36b19c95",
   "metadata": {},
   "outputs": [
    {
     "name": "stdout",
     "output_type": "stream",
     "text": [
      "<class 'pandas.core.frame.DataFrame'>\n",
      "RangeIndex: 26685 entries, 0 to 26684\n",
      "Data columns (total 8 columns):\n",
      " #   Column    Non-Null Count  Dtype \n",
      "---  ------    --------------  ----- \n",
      " 0   id        26685 non-null  object\n",
      " 1   name_1    26685 non-null  object\n",
      " 2   name_2    26685 non-null  object\n",
      " 3   name_3    24426 non-null  object\n",
      " 4   coord_1   26685 non-null  object\n",
      " 5   coord_2   26685 non-null  object\n",
      " 6   AD        26685 non-null  object\n",
      " 7   location  26685 non-null  object\n",
      "dtypes: object(8)\n",
      "memory usage: 1.6+ MB\n"
     ]
    }
   ],
   "source": [
    "data.info()"
   ]
  },
  {
   "cell_type": "code",
   "execution_count": 10,
   "id": "d9b68607",
   "metadata": {},
   "outputs": [
    {
     "data": {
      "text/plain": [
       "2259"
      ]
     },
     "execution_count": 10,
     "metadata": {},
     "output_type": "execute_result"
    }
   ],
   "source": [
    "data['name_3'].isna().sum()"
   ]
  },
  {
   "cell_type": "code",
   "execution_count": 11,
   "id": "700b00c6",
   "metadata": {},
   "outputs": [
    {
     "name": "stdout",
     "output_type": "stream",
     "text": [
      "<class 'pandas.core.frame.DataFrame'>\n",
      "RangeIndex: 26685 entries, 0 to 26684\n",
      "Data columns (total 8 columns):\n",
      " #   Column    Non-Null Count  Dtype \n",
      "---  ------    --------------  ----- \n",
      " 0   id        26685 non-null  object\n",
      " 1   name_1    26685 non-null  object\n",
      " 2   name_2    26685 non-null  object\n",
      " 3   name_3    26685 non-null  object\n",
      " 4   coord_1   26685 non-null  object\n",
      " 5   coord_2   26685 non-null  object\n",
      " 6   AD        26685 non-null  object\n",
      " 7   location  26685 non-null  object\n",
      "dtypes: object(8)\n",
      "memory usage: 1.6+ MB\n"
     ]
    }
   ],
   "source": [
    "data['name_3'] = data['name_3'].fillna('unknown')\n",
    "data.info()"
   ]
  },
  {
   "cell_type": "code",
   "execution_count": 12,
   "id": "ec7d063c",
   "metadata": {},
   "outputs": [],
   "source": [
    "target = data['name_1']"
   ]
  },
  {
   "cell_type": "markdown",
   "id": "71849720",
   "metadata": {},
   "source": [
    "# 3. OUTPUT"
   ]
  },
  {
   "cell_type": "markdown",
   "id": "e440aca0",
   "metadata": {},
   "source": [
    "## 3.1 difflib"
   ]
  },
  {
   "cell_type": "markdown",
   "id": "b38dcc67",
   "metadata": {},
   "source": [
    "с переводчиком"
   ]
  },
  {
   "cell_type": "code",
   "execution_count": 13,
   "id": "5a922e27",
   "metadata": {},
   "outputs": [
    {
     "data": {
      "text/plain": [
       "{'Vladivostok': {'levenshtein_distance': 0},\n",
       " 'Valdosta': {'levenshtein_distance': 6},\n",
       " 'Vasto': {'levenshtein_distance': 6},\n",
       " 'Gladstone': {'levenshtein_distance': 6}}"
      ]
     },
     "execution_count": 13,
     "metadata": {},
     "output_type": "execute_result"
    }
   ],
   "source": [
    "namesdiff, vocab = match_search(word,target, 5, 'difflib', True)\n",
    "vocab"
   ]
  },
  {
   "cell_type": "markdown",
   "id": "6bd31ac2",
   "metadata": {},
   "source": [
    "с транслитом"
   ]
  },
  {
   "cell_type": "code",
   "execution_count": 14,
   "id": "4015f8d9",
   "metadata": {},
   "outputs": [
    {
     "data": {
      "text/plain": [
       "{'Vladivostok': {'levenshtein_distance': 1},\n",
       " 'Valdivia': {'levenshtein_distance': 7},\n",
       " 'Vasto': {'levenshtein_distance': 6},\n",
       " 'Gladstone': {'levenshtein_distance': 6}}"
      ]
     },
     "execution_count": 14,
     "metadata": {},
     "output_type": "execute_result"
    }
   ],
   "source": [
    "namesdiff, vocab = match_search(word,target, 5, 'difflib', False)\n",
    "vocab"
   ]
  },
  {
   "cell_type": "markdown",
   "id": "e8b7c7b4",
   "metadata": {},
   "source": [
    "в geonames"
   ]
  },
  {
   "cell_type": "code",
   "execution_count": 15,
   "id": "80c2a775",
   "metadata": {},
   "outputs": [
    {
     "name": "stderr",
     "output_type": "stream",
     "text": [
      "C:\\Users\\user\\Desktop\\geomatchesloc\\matchgeo.py:70: SettingWithCopyWarning: \n",
      "A value is trying to be set on a copy of a slice from a DataFrame.\n",
      "Try using .loc[row_indexer,col_indexer] = value instead\n",
      "\n",
      "See the caveats in the documentation: https://pandas.pydata.org/pandas-docs/stable/user_guide/indexing.html#returning-a-view-versus-a-copy\n",
      "  dfnames.loc[data['name_1'].isin(names), 'name_order'] = dfnames['name_1'].apply(\n"
     ]
    },
    {
     "data": {
      "text/html": [
       "<div>\n",
       "<style scoped>\n",
       "    .dataframe tbody tr th:only-of-type {\n",
       "        vertical-align: middle;\n",
       "    }\n",
       "\n",
       "    .dataframe tbody tr th {\n",
       "        vertical-align: top;\n",
       "    }\n",
       "\n",
       "    .dataframe thead th {\n",
       "        text-align: right;\n",
       "    }\n",
       "</style>\n",
       "<table border=\"1\" class=\"dataframe\">\n",
       "  <thead>\n",
       "    <tr style=\"text-align: right;\">\n",
       "      <th></th>\n",
       "      <th>id</th>\n",
       "      <th>name_1</th>\n",
       "      <th>name_2</th>\n",
       "      <th>name_3</th>\n",
       "      <th>coord_1</th>\n",
       "      <th>coord_2</th>\n",
       "      <th>AD</th>\n",
       "      <th>location</th>\n",
       "    </tr>\n",
       "  </thead>\n",
       "  <tbody>\n",
       "    <tr>\n",
       "      <th>20699</th>\n",
       "      <td>2013348</td>\n",
       "      <td>Vladivostok</td>\n",
       "      <td>Vladivostok</td>\n",
       "      <td>Bladibostok,Uladzivastok,VVO,Vladivostok,Vladi...</td>\n",
       "      <td>43.10562</td>\n",
       "      <td>131.87353</td>\n",
       "      <td>RU</td>\n",
       "      <td>Asia/Vladivostok</td>\n",
       "    </tr>\n",
       "    <tr>\n",
       "      <th>3295</th>\n",
       "      <td>3868707</td>\n",
       "      <td>Valdivia</td>\n",
       "      <td>Valdivia</td>\n",
       "      <td>Ciudad de Valdivia,Ciudad de Valdivía,Val'divi...</td>\n",
       "      <td>-39.81422</td>\n",
       "      <td>-73.24589</td>\n",
       "      <td>CL</td>\n",
       "      <td>America/Santiago</td>\n",
       "    </tr>\n",
       "    <tr>\n",
       "      <th>14043</th>\n",
       "      <td>3164672</td>\n",
       "      <td>Vasto</td>\n",
       "      <td>Vasto</td>\n",
       "      <td>Istonio,Vasto,Васто</td>\n",
       "      <td>42.1115</td>\n",
       "      <td>14.70649</td>\n",
       "      <td>IT</td>\n",
       "      <td>Europe/Rome</td>\n",
       "    </tr>\n",
       "    <tr>\n",
       "      <th>615</th>\n",
       "      <td>2165478</td>\n",
       "      <td>Gladstone</td>\n",
       "      <td>Gladstone</td>\n",
       "      <td>GLT,Gladston,Gladstone,Gledston,Glehdston,ge l...</td>\n",
       "      <td>-23.84852</td>\n",
       "      <td>151.25775</td>\n",
       "      <td>AU</td>\n",
       "      <td>Australia/Brisbane</td>\n",
       "    </tr>\n",
       "    <tr>\n",
       "      <th>23302</th>\n",
       "      <td>4387990</td>\n",
       "      <td>Gladstone</td>\n",
       "      <td>Gladstone</td>\n",
       "      <td>Evanston,Gladston,Gladstone,Gladstoun,Gledston...</td>\n",
       "      <td>39.20389</td>\n",
       "      <td>-94.55468</td>\n",
       "      <td>US</td>\n",
       "      <td>America/Chicago</td>\n",
       "    </tr>\n",
       "  </tbody>\n",
       "</table>\n",
       "</div>"
      ],
      "text/plain": [
       "            id       name_1       name_2  \\\n",
       "20699  2013348  Vladivostok  Vladivostok   \n",
       "3295   3868707     Valdivia     Valdivia   \n",
       "14043  3164672        Vasto        Vasto   \n",
       "615    2165478    Gladstone    Gladstone   \n",
       "23302  4387990    Gladstone    Gladstone   \n",
       "\n",
       "                                                  name_3    coord_1  \\\n",
       "20699  Bladibostok,Uladzivastok,VVO,Vladivostok,Vladi...   43.10562   \n",
       "3295   Ciudad de Valdivia,Ciudad de Valdivía,Val'divi...  -39.81422   \n",
       "14043                                Istonio,Vasto,Васто    42.1115   \n",
       "615    GLT,Gladston,Gladstone,Gledston,Glehdston,ge l...  -23.84852   \n",
       "23302  Evanston,Gladston,Gladstone,Gladstoun,Gledston...   39.20389   \n",
       "\n",
       "         coord_2  AD            location  \n",
       "20699  131.87353  RU    Asia/Vladivostok  \n",
       "3295   -73.24589  CL    America/Santiago  \n",
       "14043   14.70649  IT         Europe/Rome  \n",
       "615    151.25775  AU  Australia/Brisbane  \n",
       "23302  -94.55468  US     America/Chicago  "
      ]
     },
     "execution_count": 15,
     "metadata": {},
     "output_type": "execute_result"
    }
   ],
   "source": [
    "closest_cities_data = matchgeo.sorted_data(data, namesdiff)\n",
    "closest_cities_data"
   ]
  },
  {
   "cell_type": "code",
   "execution_count": 16,
   "id": "bb22d457",
   "metadata": {},
   "outputs": [
    {
     "name": "stdout",
     "output_type": "stream",
     "text": [
      "Data for Vladivostok:\n",
      "adminCode1: 59\n",
      "lng: 131.87353\n",
      "geonameId: 2013348\n",
      "toponymName: Vladivostok\n",
      "countryId: 2017370\n",
      "fcl: P\n",
      "population: 604901\n",
      "countryCode: RU\n",
      "name: Vladivostok\n",
      "fclName: city, village,...\n",
      "adminCodes1: {'ISO3166_2': 'PRI'}\n",
      "countryName: Russia\n",
      "fcodeName: seat of a first-order administrative division\n",
      "adminName1: Primorye\n",
      "lat: 43.10562\n",
      "fcode: PPLA\n",
      "\n",
      "\n",
      "Data for Valdivia:\n",
      "adminCode1: 17\n",
      "lng: -73.24589\n",
      "geonameId: 3868707\n",
      "toponymName: Valdivia\n",
      "countryId: 3895114\n",
      "fcl: P\n",
      "population: 133419\n",
      "countryCode: CL\n",
      "name: Valdivia\n",
      "fclName: city, village,...\n",
      "adminCodes1: {'ISO3166_2': 'LR'}\n",
      "countryName: Chile\n",
      "fcodeName: seat of a first-order administrative division\n",
      "adminName1: Los Ríos Region\n",
      "lat: -39.81422\n",
      "fcode: PPLA\n",
      "\n",
      "\n",
      "Data for Vasto:\n",
      "adminCode1: 01\n",
      "lng: 14.70649\n",
      "geonameId: 3164672\n",
      "toponymName: Vasto\n",
      "countryId: 3175395\n",
      "fcl: P\n",
      "population: 41409\n",
      "countryCode: IT\n",
      "name: Vasto\n",
      "fclName: city, village,...\n",
      "adminCodes1: {'ISO3166_2': '65'}\n",
      "countryName: Italy\n",
      "fcodeName: seat of a third-order administrative division\n",
      "adminName1: Abruzzo\n",
      "lat: 42.1115\n",
      "fcode: PPLA3\n",
      "\n",
      "\n",
      "Data for Gladstone:\n",
      "adminCode1: 04\n",
      "lng: 151.22035\n",
      "geonameId: 7910182\n",
      "toponymName: Gladstone Airport\n",
      "countryId: 2077456\n",
      "fcl: S\n",
      "population: 0\n",
      "countryCode: AU\n",
      "name: Gladstone Airport\n",
      "fclName: spot, building, farm\n",
      "adminCodes1: {'ISO3166_2': 'QLD'}\n",
      "countryName: Australia\n",
      "fcodeName: airport\n",
      "adminName1: Queensland\n",
      "lat: -23.86887\n",
      "fcode: AIRP\n",
      "\n",
      "\n",
      "Data for Gladstone:\n",
      "adminCode1: MO\n",
      "lng: -94.55468\n",
      "geonameId: 4387990\n",
      "toponymName: Gladstone\n",
      "countryId: 6252001\n",
      "fcl: P\n",
      "population: 26861\n",
      "countryCode: US\n",
      "name: Gladstone\n",
      "fclName: city, village,...\n",
      "adminCodes1: {'ISO3166_2': 'MO'}\n",
      "countryName: United States\n",
      "fcodeName: populated place\n",
      "adminName1: Missouri\n",
      "lat: 39.20389\n",
      "fcode: PPL\n",
      "\n",
      "\n",
      "\n"
     ]
    }
   ],
   "source": [
    "getgeonamesinfo(closest_cities_data)"
   ]
  },
  {
   "cell_type": "markdown",
   "id": "334e5f07",
   "metadata": {},
   "source": [
    "## 3.2 fuzzywuzzy"
   ]
  },
  {
   "cell_type": "markdown",
   "id": "5ca92e04",
   "metadata": {},
   "source": [
    "с переводчиком"
   ]
  },
  {
   "cell_type": "code",
   "execution_count": 17,
   "id": "d19afb71",
   "metadata": {},
   "outputs": [
    {
     "data": {
      "text/plain": [
       "{'Vladivostok': {'fuzz_ratio': 100},\n",
       " 'Istok': {'fuzz_ratio': 50},\n",
       " 'Rostock': {'fuzz_ratio': 56},\n",
       " 'Divo': {'fuzz_ratio': 40},\n",
       " 'Most': {'fuzz_ratio': 40}}"
      ]
     },
     "execution_count": 17,
     "metadata": {},
     "output_type": "execute_result"
    }
   ],
   "source": [
    "namesfw, vocab = match_search(word,target, 5, 'fw', True)\n",
    "vocab"
   ]
  },
  {
   "cell_type": "markdown",
   "id": "7a8f5ca2",
   "metadata": {},
   "source": [
    "с транслитом"
   ]
  },
  {
   "cell_type": "code",
   "execution_count": 18,
   "id": "f6784914",
   "metadata": {},
   "outputs": [
    {
     "data": {
      "text/plain": [
       "{'Vladivostok': {'fuzz_ratio': 91},\n",
       " 'Pasto': {'fuzz_ratio': 50},\n",
       " 'Vasto': {'fuzz_ratio': 62},\n",
       " 'Rivas': {'fuzz_ratio': 50},\n",
       " 'Sivas': {'fuzz_ratio': 50}}"
      ]
     },
     "execution_count": 18,
     "metadata": {},
     "output_type": "execute_result"
    }
   ],
   "source": [
    "namesfw, vocab = match_search(word,target, 5, 'fw', False)\n",
    "vocab"
   ]
  },
  {
   "cell_type": "markdown",
   "id": "cb536ac2",
   "metadata": {},
   "source": [
    "С geonames"
   ]
  },
  {
   "cell_type": "code",
   "execution_count": 19,
   "id": "195588bd",
   "metadata": {},
   "outputs": [
    {
     "name": "stderr",
     "output_type": "stream",
     "text": [
      "C:\\Users\\user\\Desktop\\geomatchesloc\\matchgeo.py:70: SettingWithCopyWarning: \n",
      "A value is trying to be set on a copy of a slice from a DataFrame.\n",
      "Try using .loc[row_indexer,col_indexer] = value instead\n",
      "\n",
      "See the caveats in the documentation: https://pandas.pydata.org/pandas-docs/stable/user_guide/indexing.html#returning-a-view-versus-a-copy\n",
      "  dfnames.loc[data['name_1'].isin(names), 'name_order'] = dfnames['name_1'].apply(\n"
     ]
    },
    {
     "data": {
      "text/html": [
       "<div>\n",
       "<style scoped>\n",
       "    .dataframe tbody tr th:only-of-type {\n",
       "        vertical-align: middle;\n",
       "    }\n",
       "\n",
       "    .dataframe tbody tr th {\n",
       "        vertical-align: top;\n",
       "    }\n",
       "\n",
       "    .dataframe thead th {\n",
       "        text-align: right;\n",
       "    }\n",
       "</style>\n",
       "<table border=\"1\" class=\"dataframe\">\n",
       "  <thead>\n",
       "    <tr style=\"text-align: right;\">\n",
       "      <th></th>\n",
       "      <th>id</th>\n",
       "      <th>name_1</th>\n",
       "      <th>name_2</th>\n",
       "      <th>name_3</th>\n",
       "      <th>coord_1</th>\n",
       "      <th>coord_2</th>\n",
       "      <th>AD</th>\n",
       "      <th>location</th>\n",
       "    </tr>\n",
       "  </thead>\n",
       "  <tbody>\n",
       "    <tr>\n",
       "      <th>20699</th>\n",
       "      <td>2013348</td>\n",
       "      <td>Vladivostok</td>\n",
       "      <td>Vladivostok</td>\n",
       "      <td>Bladibostok,Uladzivastok,VVO,Vladivostok,Vladi...</td>\n",
       "      <td>43.10562</td>\n",
       "      <td>131.87353</td>\n",
       "      <td>RU</td>\n",
       "      <td>Asia/Vladivostok</td>\n",
       "    </tr>\n",
       "    <tr>\n",
       "      <th>3295</th>\n",
       "      <td>3868707</td>\n",
       "      <td>Valdivia</td>\n",
       "      <td>Valdivia</td>\n",
       "      <td>Ciudad de Valdivia,Ciudad de Valdivía,Val'divi...</td>\n",
       "      <td>-39.81422</td>\n",
       "      <td>-73.24589</td>\n",
       "      <td>CL</td>\n",
       "      <td>America/Santiago</td>\n",
       "    </tr>\n",
       "    <tr>\n",
       "      <th>14043</th>\n",
       "      <td>3164672</td>\n",
       "      <td>Vasto</td>\n",
       "      <td>Vasto</td>\n",
       "      <td>Istonio,Vasto,Васто</td>\n",
       "      <td>42.1115</td>\n",
       "      <td>14.70649</td>\n",
       "      <td>IT</td>\n",
       "      <td>Europe/Rome</td>\n",
       "    </tr>\n",
       "    <tr>\n",
       "      <th>615</th>\n",
       "      <td>2165478</td>\n",
       "      <td>Gladstone</td>\n",
       "      <td>Gladstone</td>\n",
       "      <td>GLT,Gladston,Gladstone,Gledston,Glehdston,ge l...</td>\n",
       "      <td>-23.84852</td>\n",
       "      <td>151.25775</td>\n",
       "      <td>AU</td>\n",
       "      <td>Australia/Brisbane</td>\n",
       "    </tr>\n",
       "    <tr>\n",
       "      <th>23302</th>\n",
       "      <td>4387990</td>\n",
       "      <td>Gladstone</td>\n",
       "      <td>Gladstone</td>\n",
       "      <td>Evanston,Gladston,Gladstone,Gladstoun,Gledston...</td>\n",
       "      <td>39.20389</td>\n",
       "      <td>-94.55468</td>\n",
       "      <td>US</td>\n",
       "      <td>America/Chicago</td>\n",
       "    </tr>\n",
       "  </tbody>\n",
       "</table>\n",
       "</div>"
      ],
      "text/plain": [
       "            id       name_1       name_2  \\\n",
       "20699  2013348  Vladivostok  Vladivostok   \n",
       "3295   3868707     Valdivia     Valdivia   \n",
       "14043  3164672        Vasto        Vasto   \n",
       "615    2165478    Gladstone    Gladstone   \n",
       "23302  4387990    Gladstone    Gladstone   \n",
       "\n",
       "                                                  name_3    coord_1  \\\n",
       "20699  Bladibostok,Uladzivastok,VVO,Vladivostok,Vladi...   43.10562   \n",
       "3295   Ciudad de Valdivia,Ciudad de Valdivía,Val'divi...  -39.81422   \n",
       "14043                                Istonio,Vasto,Васто    42.1115   \n",
       "615    GLT,Gladston,Gladstone,Gledston,Glehdston,ge l...  -23.84852   \n",
       "23302  Evanston,Gladston,Gladstone,Gladstoun,Gledston...   39.20389   \n",
       "\n",
       "         coord_2  AD            location  \n",
       "20699  131.87353  RU    Asia/Vladivostok  \n",
       "3295   -73.24589  CL    America/Santiago  \n",
       "14043   14.70649  IT         Europe/Rome  \n",
       "615    151.25775  AU  Australia/Brisbane  \n",
       "23302  -94.55468  US     America/Chicago  "
      ]
     },
     "execution_count": 19,
     "metadata": {},
     "output_type": "execute_result"
    }
   ],
   "source": [
    "closest_cities_data = matchgeo.sorted_data(data, namesdiff)\n",
    "closest_cities_data"
   ]
  },
  {
   "cell_type": "code",
   "execution_count": 20,
   "id": "bd6f4748",
   "metadata": {},
   "outputs": [
    {
     "name": "stdout",
     "output_type": "stream",
     "text": [
      "Data for Vladivostok:\n",
      "adminCode1: 59\n",
      "lng: 131.87353\n",
      "geonameId: 2013348\n",
      "toponymName: Vladivostok\n",
      "countryId: 2017370\n",
      "fcl: P\n",
      "population: 604901\n",
      "countryCode: RU\n",
      "name: Vladivostok\n",
      "fclName: city, village,...\n",
      "adminCodes1: {'ISO3166_2': 'PRI'}\n",
      "countryName: Russia\n",
      "fcodeName: seat of a first-order administrative division\n",
      "adminName1: Primorye\n",
      "lat: 43.10562\n",
      "fcode: PPLA\n",
      "\n",
      "\n",
      "Data for Valdivia:\n",
      "adminCode1: 17\n",
      "lng: -73.24589\n",
      "geonameId: 3868707\n",
      "toponymName: Valdivia\n",
      "countryId: 3895114\n",
      "fcl: P\n",
      "population: 133419\n",
      "countryCode: CL\n",
      "name: Valdivia\n",
      "fclName: city, village,...\n",
      "adminCodes1: {'ISO3166_2': 'LR'}\n",
      "countryName: Chile\n",
      "fcodeName: seat of a first-order administrative division\n",
      "adminName1: Los Ríos Region\n",
      "lat: -39.81422\n",
      "fcode: PPLA\n",
      "\n",
      "\n",
      "Data for Vasto:\n",
      "adminCode1: 01\n",
      "lng: 14.70649\n",
      "geonameId: 3164672\n",
      "toponymName: Vasto\n",
      "countryId: 3175395\n",
      "fcl: P\n",
      "population: 41409\n",
      "countryCode: IT\n",
      "name: Vasto\n",
      "fclName: city, village,...\n",
      "adminCodes1: {'ISO3166_2': '65'}\n",
      "countryName: Italy\n",
      "fcodeName: seat of a third-order administrative division\n",
      "adminName1: Abruzzo\n",
      "lat: 42.1115\n",
      "fcode: PPLA3\n",
      "\n",
      "\n",
      "Data for Gladstone:\n",
      "adminCode1: 04\n",
      "lng: 151.22035\n",
      "geonameId: 7910182\n",
      "toponymName: Gladstone Airport\n",
      "countryId: 2077456\n",
      "fcl: S\n",
      "population: 0\n",
      "countryCode: AU\n",
      "name: Gladstone Airport\n",
      "fclName: spot, building, farm\n",
      "adminCodes1: {'ISO3166_2': 'QLD'}\n",
      "countryName: Australia\n",
      "fcodeName: airport\n",
      "adminName1: Queensland\n",
      "lat: -23.86887\n",
      "fcode: AIRP\n",
      "\n",
      "\n",
      "Data for Gladstone:\n",
      "adminCode1: MO\n",
      "lng: -94.55468\n",
      "geonameId: 4387990\n",
      "toponymName: Gladstone\n",
      "countryId: 6252001\n",
      "fcl: P\n",
      "population: 26861\n",
      "countryCode: US\n",
      "name: Gladstone\n",
      "fclName: city, village,...\n",
      "adminCodes1: {'ISO3166_2': 'MO'}\n",
      "countryName: United States\n",
      "fcodeName: populated place\n",
      "adminName1: Missouri\n",
      "lat: 39.20389\n",
      "fcode: PPL\n",
      "\n",
      "\n",
      "\n"
     ]
    }
   ],
   "source": [
    "getgeonamesinfo(closest_cities_data)"
   ]
  },
  {
   "cell_type": "markdown",
   "id": "d7ea4291",
   "metadata": {},
   "source": [
    "# 4. Пересечение множеств"
   ]
  },
  {
   "cell_type": "code",
   "execution_count": 21,
   "id": "07a27b2b",
   "metadata": {},
   "outputs": [
    {
     "data": {
      "text/plain": [
       "['Vasto', 'Vladivostok']"
      ]
     },
     "execution_count": 21,
     "metadata": {},
     "output_type": "execute_result"
    }
   ],
   "source": [
    "common_values = list(set(namesdiff) & set(namesfw))\n",
    "common_values"
   ]
  },
  {
   "cell_type": "code",
   "execution_count": 22,
   "id": "d28c6e07",
   "metadata": {},
   "outputs": [
    {
     "name": "stderr",
     "output_type": "stream",
     "text": [
      "C:\\Users\\user\\Desktop\\geomatchesloc\\matchgeo.py:70: SettingWithCopyWarning: \n",
      "A value is trying to be set on a copy of a slice from a DataFrame.\n",
      "Try using .loc[row_indexer,col_indexer] = value instead\n",
      "\n",
      "See the caveats in the documentation: https://pandas.pydata.org/pandas-docs/stable/user_guide/indexing.html#returning-a-view-versus-a-copy\n",
      "  dfnames.loc[data['name_1'].isin(names), 'name_order'] = dfnames['name_1'].apply(\n"
     ]
    },
    {
     "data": {
      "text/html": [
       "<div>\n",
       "<style scoped>\n",
       "    .dataframe tbody tr th:only-of-type {\n",
       "        vertical-align: middle;\n",
       "    }\n",
       "\n",
       "    .dataframe tbody tr th {\n",
       "        vertical-align: top;\n",
       "    }\n",
       "\n",
       "    .dataframe thead th {\n",
       "        text-align: right;\n",
       "    }\n",
       "</style>\n",
       "<table border=\"1\" class=\"dataframe\">\n",
       "  <thead>\n",
       "    <tr style=\"text-align: right;\">\n",
       "      <th></th>\n",
       "      <th>id</th>\n",
       "      <th>name_1</th>\n",
       "      <th>name_2</th>\n",
       "      <th>name_3</th>\n",
       "      <th>coord_1</th>\n",
       "      <th>coord_2</th>\n",
       "      <th>AD</th>\n",
       "      <th>location</th>\n",
       "    </tr>\n",
       "  </thead>\n",
       "  <tbody>\n",
       "    <tr>\n",
       "      <th>14043</th>\n",
       "      <td>3164672</td>\n",
       "      <td>Vasto</td>\n",
       "      <td>Vasto</td>\n",
       "      <td>Istonio,Vasto,Васто</td>\n",
       "      <td>42.1115</td>\n",
       "      <td>14.70649</td>\n",
       "      <td>IT</td>\n",
       "      <td>Europe/Rome</td>\n",
       "    </tr>\n",
       "    <tr>\n",
       "      <th>20699</th>\n",
       "      <td>2013348</td>\n",
       "      <td>Vladivostok</td>\n",
       "      <td>Vladivostok</td>\n",
       "      <td>Bladibostok,Uladzivastok,VVO,Vladivostok,Vladi...</td>\n",
       "      <td>43.10562</td>\n",
       "      <td>131.87353</td>\n",
       "      <td>RU</td>\n",
       "      <td>Asia/Vladivostok</td>\n",
       "    </tr>\n",
       "  </tbody>\n",
       "</table>\n",
       "</div>"
      ],
      "text/plain": [
       "            id       name_1       name_2  \\\n",
       "14043  3164672        Vasto        Vasto   \n",
       "20699  2013348  Vladivostok  Vladivostok   \n",
       "\n",
       "                                                  name_3   coord_1    coord_2  \\\n",
       "14043                                Istonio,Vasto,Васто   42.1115   14.70649   \n",
       "20699  Bladibostok,Uladzivastok,VVO,Vladivostok,Vladi...  43.10562  131.87353   \n",
       "\n",
       "       AD          location  \n",
       "14043  IT       Europe/Rome  \n",
       "20699  RU  Asia/Vladivostok  "
      ]
     },
     "execution_count": 22,
     "metadata": {},
     "output_type": "execute_result"
    }
   ],
   "source": [
    "cities_common = matchgeo.sorted_data(data, common_values)\n",
    "cities_common"
   ]
  },
  {
   "cell_type": "code",
   "execution_count": 23,
   "id": "9f5fbd0a",
   "metadata": {},
   "outputs": [
    {
     "name": "stdout",
     "output_type": "stream",
     "text": [
      "Data for Vasto:\n",
      "adminCode1: 01\n",
      "lng: 14.70649\n",
      "geonameId: 3164672\n",
      "toponymName: Vasto\n",
      "countryId: 3175395\n",
      "fcl: P\n",
      "population: 41409\n",
      "countryCode: IT\n",
      "name: Vasto\n",
      "fclName: city, village,...\n",
      "adminCodes1: {'ISO3166_2': '65'}\n",
      "countryName: Italy\n",
      "fcodeName: seat of a third-order administrative division\n",
      "adminName1: Abruzzo\n",
      "lat: 42.1115\n",
      "fcode: PPLA3\n",
      "\n",
      "\n",
      "Data for Vladivostok:\n",
      "adminCode1: 59\n",
      "lng: 131.87353\n",
      "geonameId: 2013348\n",
      "toponymName: Vladivostok\n",
      "countryId: 2017370\n",
      "fcl: P\n",
      "population: 604901\n",
      "countryCode: RU\n",
      "name: Vladivostok\n",
      "fclName: city, village,...\n",
      "adminCodes1: {'ISO3166_2': 'PRI'}\n",
      "countryName: Russia\n",
      "fcodeName: seat of a first-order administrative division\n",
      "adminName1: Primorye\n",
      "lat: 43.10562\n",
      "fcode: PPLA\n",
      "\n",
      "\n",
      "\n"
     ]
    }
   ],
   "source": [
    "getgeonamesinfo(cities_common)"
   ]
  },
  {
   "cell_type": "markdown",
   "id": "23110c7a",
   "metadata": {},
   "source": [
    "Для \"Росов-на-Доу\""
   ]
  },
  {
   "cell_type": "code",
   "execution_count": 42,
   "id": "b3c6e50c",
   "metadata": {},
   "outputs": [
    {
     "data": {
      "text/plain": [
       "{'Rostov-na-Donu': {'levenshtein_distance': 5}}"
      ]
     },
     "execution_count": 42,
     "metadata": {},
     "output_type": "execute_result"
    }
   ],
   "source": [
    "namesdiff, vocab = match_search(word_2,target, 5, 'difflib', True)\n",
    "vocab"
   ]
  },
  {
   "cell_type": "code",
   "execution_count": 43,
   "id": "7990bcc1",
   "metadata": {},
   "outputs": [
    {
     "data": {
      "text/plain": [
       "{'Rostov-na-Donu': {'levenshtein_distance': 2}}"
      ]
     },
     "execution_count": 43,
     "metadata": {},
     "output_type": "execute_result"
    }
   ],
   "source": [
    "namesdiff, vocab = match_search(word_2,target, 5, 'difflib', False)\n",
    "vocab"
   ]
  },
  {
   "cell_type": "code",
   "execution_count": 44,
   "id": "11559d8a",
   "metadata": {},
   "outputs": [
    {
     "data": {
      "text/plain": [
       "{'Rostov-na-Donu': {'fuzz_ratio': 77},\n",
       " 'Rostov': {'fuzz_ratio': 56},\n",
       " 'Rosso': {'fuzz_ratio': 47},\n",
       " 'Yovon': {'fuzz_ratio': 47},\n",
       " 'Avon': {'fuzz_ratio': 38}}"
      ]
     },
     "execution_count": 44,
     "metadata": {},
     "output_type": "execute_result"
    }
   ],
   "source": [
    "namesfw, vocab = match_search(word_2,target, 5, 'fw', True)\n",
    "vocab"
   ]
  },
  {
   "cell_type": "code",
   "execution_count": 45,
   "id": "2a951bc3",
   "metadata": {},
   "outputs": [
    {
     "data": {
      "text/plain": [
       "{'Rostov-na-Donu': {'fuzz_ratio': 77},\n",
       " 'Rostov': {'fuzz_ratio': 56},\n",
       " 'Rosso': {'fuzz_ratio': 47},\n",
       " 'Yovon': {'fuzz_ratio': 47},\n",
       " 'Avon': {'fuzz_ratio': 38}}"
      ]
     },
     "execution_count": 45,
     "metadata": {},
     "output_type": "execute_result"
    }
   ],
   "source": [
    "namesfw, vocab = match_search(word_2,target, 5, 'fw', True)\n",
    "vocab"
   ]
  },
  {
   "cell_type": "code",
   "execution_count": 28,
   "id": "e1643963",
   "metadata": {},
   "outputs": [
    {
     "data": {
      "text/plain": [
       "['Rostov-na-Donu']"
      ]
     },
     "execution_count": 28,
     "metadata": {},
     "output_type": "execute_result"
    }
   ],
   "source": [
    "common_values = list(set(namesdiff) & set(namesfw))\n",
    "common_values"
   ]
  },
  {
   "cell_type": "markdown",
   "id": "dbe955ed",
   "metadata": {},
   "source": [
    "Для \"Вилики Ноагород\""
   ]
  },
  {
   "cell_type": "code",
   "execution_count": 29,
   "id": "0a90739b",
   "metadata": {},
   "outputs": [
    {
     "data": {
      "text/plain": [
       "{'Velikiy Novgorod': {'levenshtein_distance': 0},\n",
       " 'Nizhniy Novgorod': {'levenshtein_distance': 5},\n",
       " 'Veliko Tŭrnovo': {'levenshtein_distance': 8},\n",
       " 'Velikiy Ustyug': {'levenshtein_distance': 8}}"
      ]
     },
     "execution_count": 29,
     "metadata": {},
     "output_type": "execute_result"
    }
   ],
   "source": [
    "namesdiff, vocab = match_search(word_3,target, 5, 'difflib', True)\n",
    "vocab"
   ]
  },
  {
   "cell_type": "code",
   "execution_count": 30,
   "id": "b691e851",
   "metadata": {},
   "outputs": [
    {
     "data": {
      "text/plain": [
       "{'Velikiy Novgorod': {'levenshtein_distance': 3},\n",
       " 'Nizhniy Novgorod': {'levenshtein_distance': 6}}"
      ]
     },
     "execution_count": 30,
     "metadata": {},
     "output_type": "execute_result"
    }
   ],
   "source": [
    "namesdiff, vocab = match_search(word_3,target, 5, 'difflib', False)\n",
    "vocab"
   ]
  },
  {
   "cell_type": "code",
   "execution_count": 31,
   "id": "9a4b5859",
   "metadata": {},
   "outputs": [
    {
     "data": {
      "text/plain": [
       "{'Velikiy Novgorod': {'fuzz_ratio': 100},\n",
       " 'Ngoro': {'fuzz_ratio': 48},\n",
       " 'Bogor': {'fuzz_ratio': 38},\n",
       " 'Bogo': {'fuzz_ratio': 30},\n",
       " 'Verl': {'fuzz_ratio': 30}}"
      ]
     },
     "execution_count": 31,
     "metadata": {},
     "output_type": "execute_result"
    }
   ],
   "source": [
    "namesfw, vocab = match_search(word_3,target, 5, 'fw', True)\n",
    "vocab"
   ]
  },
  {
   "cell_type": "code",
   "execution_count": 32,
   "id": "bda38ffc",
   "metadata": {},
   "outputs": [
    {
     "data": {
      "text/plain": [
       "{'Kagoro': {'fuzz_ratio': 48},\n",
       " 'Ngoro': {'fuzz_ratio': 50},\n",
       " 'Bogor': {'fuzz_ratio': 40},\n",
       " 'Velikiy Novgorod': {'fuzz_ratio': 84},\n",
       " 'Nola': {'fuzz_ratio': 32}}"
      ]
     },
     "execution_count": 32,
     "metadata": {},
     "output_type": "execute_result"
    }
   ],
   "source": [
    "namesfw, vocab = match_search(word_3,target, 5, 'fw', False)\n",
    "vocab"
   ]
  },
  {
   "cell_type": "code",
   "execution_count": 33,
   "id": "cac3683d",
   "metadata": {},
   "outputs": [
    {
     "data": {
      "text/plain": [
       "['Velikiy Novgorod']"
      ]
     },
     "execution_count": 33,
     "metadata": {},
     "output_type": "execute_result"
    }
   ],
   "source": [
    "common_values = list(set(namesdiff) & set(namesfw))\n",
    "common_values"
   ]
  },
  {
   "cell_type": "markdown",
   "id": "bbbfed4e",
   "metadata": {},
   "source": [
    "Для Дубаии"
   ]
  },
  {
   "cell_type": "code",
   "execution_count": 34,
   "id": "fcc18d6c",
   "metadata": {},
   "outputs": [
    {
     "data": {
      "text/plain": [
       "{'Dubai': {'levenshtein_distance': 1},\n",
       " 'Duba': {'levenshtein_distance': 2},\n",
       " 'Duoba': {'levenshtein_distance': 3},\n",
       " 'Dumai': {'levenshtein_distance': 2},\n",
       " 'Dubti': {'levenshtein_distance': 2}}"
      ]
     },
     "execution_count": 34,
     "metadata": {},
     "output_type": "execute_result"
    }
   ],
   "source": [
    "namesdiff, vocab = match_search(word_4,target, 5, 'difflib', True)\n",
    "vocab"
   ]
  },
  {
   "cell_type": "code",
   "execution_count": 35,
   "id": "21ede967",
   "metadata": {},
   "outputs": [
    {
     "data": {
      "text/plain": [
       "{'Dubai': {'levenshtein_distance': 1},\n",
       " 'Duba': {'levenshtein_distance': 2},\n",
       " 'Duoba': {'levenshtein_distance': 3},\n",
       " 'Dumai': {'levenshtein_distance': 2},\n",
       " 'Dubti': {'levenshtein_distance': 2}}"
      ]
     },
     "execution_count": 35,
     "metadata": {},
     "output_type": "execute_result"
    }
   ],
   "source": [
    "namesdiff, vocab = match_search(word_4,target, 5, 'difflib', False)\n",
    "vocab"
   ]
  },
  {
   "cell_type": "code",
   "execution_count": 36,
   "id": "678bd362",
   "metadata": {},
   "outputs": [
    {
     "data": {
      "text/plain": [
       "{'Dubai': {'fuzz_ratio': 91},\n",
       " 'Duba': {'fuzz_ratio': 80},\n",
       " 'Duoba': {'fuzz_ratio': 73},\n",
       " 'Dubti': {'fuzz_ratio': 73},\n",
       " 'Douai': {'fuzz_ratio': 73}}"
      ]
     },
     "execution_count": 36,
     "metadata": {},
     "output_type": "execute_result"
    }
   ],
   "source": [
    "namesfw, vocab = match_search(word_4,target, 5, 'fw', True)\n",
    "vocab"
   ]
  },
  {
   "cell_type": "code",
   "execution_count": 37,
   "id": "87b53791",
   "metadata": {},
   "outputs": [
    {
     "data": {
      "text/plain": [
       "{'Dubai': {'fuzz_ratio': 91},\n",
       " 'Duba': {'fuzz_ratio': 80},\n",
       " 'Duoba': {'fuzz_ratio': 73},\n",
       " 'Dubti': {'fuzz_ratio': 73},\n",
       " 'Douai': {'fuzz_ratio': 73}}"
      ]
     },
     "execution_count": 37,
     "metadata": {},
     "output_type": "execute_result"
    }
   ],
   "source": [
    "namesfw, vocab = match_search(word_4,target, 5, 'fw', False)\n",
    "vocab"
   ]
  },
  {
   "cell_type": "code",
   "execution_count": 38,
   "id": "609ee5cf",
   "metadata": {},
   "outputs": [
    {
     "data": {
      "text/plain": [
       "['Duba', 'Dubai', 'Dubti', 'Duoba']"
      ]
     },
     "execution_count": 38,
     "metadata": {},
     "output_type": "execute_result"
    }
   ],
   "source": [
    "common_values = list(set(namesdiff) & set(namesfw))\n",
    "common_values"
   ]
  }
 ],
 "metadata": {
  "kernelspec": {
   "display_name": "Python 3 (ipykernel)",
   "language": "python",
   "name": "python3"
  },
  "language_info": {
   "codemirror_mode": {
    "name": "ipython",
    "version": 3
   },
   "file_extension": ".py",
   "mimetype": "text/x-python",
   "name": "python",
   "nbconvert_exporter": "python",
   "pygments_lexer": "ipython3",
   "version": "3.11.5"
  }
 },
 "nbformat": 4,
 "nbformat_minor": 5
}
